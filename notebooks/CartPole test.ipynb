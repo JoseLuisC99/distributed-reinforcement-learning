{
 "cells": [
  {
   "cell_type": "code",
   "id": "baa9bf9afe767f33",
   "metadata": {
    "collapsed": false,
    "jupyter": {
     "outputs_hidden": false
    },
    "ExecuteTime": {
     "end_time": "2024-04-12T16:45:17.200512Z",
     "start_time": "2024-04-12T16:45:17.197381Z"
    }
   },
   "source": [
    "import numpy as np\n",
    "import torch\n",
    "from torch import nn\n",
    "import torch.nn.functional as F\n",
    "import gymnasium as gym\n",
    "from gymnasium.wrappers import RecordVideo\n",
    "from collections import Counter\n",
    "from itertools import count"
   ],
   "outputs": [],
   "execution_count": 7
  },
  {
   "cell_type": "code",
   "id": "75e91f7dd64a2bef",
   "metadata": {
    "collapsed": false,
    "jupyter": {
     "outputs_hidden": false
    },
    "ExecuteTime": {
     "end_time": "2024-04-12T16:42:37.076643Z",
     "start_time": "2024-04-12T16:42:37.073417Z"
    }
   },
   "source": [
    "class DeepQNetwork(nn.Module):\n",
    "    def __init__(self, n_observations, n_actions):\n",
    "        super(DeepQNetwork, self).__init__()\n",
    "        self.layer1 = nn.Linear(n_observations, 128)\n",
    "        self.layer2 = nn.Linear(128, 128)\n",
    "        self.layer3 = nn.Linear(128, n_actions)\n",
    "\n",
    "    def forward(self, x):\n",
    "        x = F.relu(self.layer1(x))\n",
    "        x = F.relu(self.layer2(x))\n",
    "        return self.layer3(x)"
   ],
   "outputs": [],
   "execution_count": 3
  },
  {
   "cell_type": "code",
   "id": "85c4a95c7e4f31a0",
   "metadata": {
    "collapsed": false,
    "jupyter": {
     "outputs_hidden": false
    },
    "ExecuteTime": {
     "end_time": "2024-04-12T16:42:33.126968Z",
     "start_time": "2024-04-12T16:42:33.007789Z"
    }
   },
   "source": [
    "dqn = DeepQNetwork(4, 2)\n",
    "# dqn.load_state_dict(torch.load(\"../models/cartpole-gorila.pth\"))\n",
    "# dqn.load_state_dict(torch.load(\"../checkpoints/checkpoint-250000.pth\"))\n",
    "# dqn.load_state_dict(torch.load(\"../checkpoints/checkpoint-87500.pth\"))\n",
    "dqn.load_state_dict(torch.load(\"../models/checkpoint-250000.pth\"))"
   ],
   "outputs": [
    {
     "ename": "NameError",
     "evalue": "name 'DeepQNetwork' is not defined",
     "output_type": "error",
     "traceback": [
      "\u001B[0;31m---------------------------------------------------------------------------\u001B[0m",
      "\u001B[0;31mNameError\u001B[0m                                 Traceback (most recent call last)",
      "Cell \u001B[0;32mIn[1], line 1\u001B[0m\n\u001B[0;32m----> 1\u001B[0m dqn \u001B[38;5;241m=\u001B[39m \u001B[43mDeepQNetwork\u001B[49m(\u001B[38;5;241m4\u001B[39m, \u001B[38;5;241m2\u001B[39m)\n\u001B[1;32m      2\u001B[0m \u001B[38;5;66;03m# dqn.load_state_dict(torch.load(\"../models/cartpole-gorila.pth\"))\u001B[39;00m\n\u001B[1;32m      3\u001B[0m \u001B[38;5;66;03m# dqn.load_state_dict(torch.load(\"../checkpoints/checkpoint-250000.pth\"))\u001B[39;00m\n\u001B[1;32m      4\u001B[0m \u001B[38;5;66;03m# dqn.load_state_dict(torch.load(\"../checkpoints/checkpoint-87500.pth\"))\u001B[39;00m\n\u001B[1;32m      5\u001B[0m dqn\u001B[38;5;241m.\u001B[39mload_state_dict(torch\u001B[38;5;241m.\u001B[39mload(\u001B[38;5;124m\"\u001B[39m\u001B[38;5;124m../models/checkpoint-250000.pth\u001B[39m\u001B[38;5;124m\"\u001B[39m))\n",
      "\u001B[0;31mNameError\u001B[0m: name 'DeepQNetwork' is not defined"
     ]
    }
   ],
   "execution_count": 1
  },
  {
   "cell_type": "code",
   "id": "ada1ad32744ea16c",
   "metadata": {
    "collapsed": false,
    "jupyter": {
     "outputs_hidden": false
    },
    "ExecuteTime": {
     "end_time": "2024-04-12T16:45:35.465689Z",
     "start_time": "2024-04-12T16:45:32.967502Z"
    }
   },
   "source": [
    "dqn = DeepQNetwork(4, 2)\n",
    "dqn.load_state_dict(torch.load(\"../models/checkpoint-250000.pth\"))\n",
    "\n",
    "dqn.eval()\n",
    "env = gym.make('CartPole-v1', render_mode=\"rgb_array\")\n",
    "env = RecordVideo(env, \"videos\")\n",
    "state, _ = env.reset()\n",
    "actions = []\n",
    "rewards = 0\n",
    "\n",
    "for _ in count():\n",
    "    q_values = dqn(torch.tensor(np.array(state)).unsqueeze(0))\n",
    "    action = q_values.argmax().item()\n",
    "    actions.append(action)\n",
    "    # print(action, q_values)\n",
    "    state, reward, terminated, truncated, _ = env.step(action)\n",
    "    rewards += reward\n",
    "    if terminated or truncated:\n",
    "        break\n",
    "\n",
    "print(\"Total reward:\", rewards)\n",
    "print(Counter(actions))\n",
    "env.close()"
   ],
   "outputs": [
    {
     "name": "stderr",
     "output_type": "stream",
     "text": [
      "/home/jlcg/anaconda3/envs/dist/lib/python3.11/site-packages/gymnasium/wrappers/record_video.py:94: UserWarning: \u001B[33mWARN: Overwriting existing videos at /home/jlcg/projects/distributed-reinforcement-learning/notebooks/videos folder (try specifying a different `video_folder` for the `RecordVideo` wrapper if this is not desired)\u001B[0m\n",
      "  logger.warn(\n"
     ]
    },
    {
     "name": "stdout",
     "output_type": "stream",
     "text": [
      "Moviepy - Building video /home/jlcg/projects/distributed-reinforcement-learning/notebooks/videos/rl-video-episode-0.mp4.\n",
      "Moviepy - Writing video /home/jlcg/projects/distributed-reinforcement-learning/notebooks/videos/rl-video-episode-0.mp4\n",
      "\n"
     ]
    },
    {
     "name": "stderr",
     "output_type": "stream",
     "text": [
      "                                                               \r"
     ]
    },
    {
     "name": "stdout",
     "output_type": "stream",
     "text": [
      "Moviepy - Done !\n",
      "Moviepy - video ready /home/jlcg/projects/distributed-reinforcement-learning/notebooks/videos/rl-video-episode-0.mp4\n",
      "Total reward: 481.0\n",
      "Counter({1: 246, 0: 235})\n"
     ]
    }
   ],
   "execution_count": 8
  },
  {
   "cell_type": "code",
   "id": "174bc61208e573b7",
   "metadata": {
    "collapsed": false,
    "jupyter": {
     "outputs_hidden": false
    },
    "ExecuteTime": {
     "end_time": "2024-04-10T17:50:30.238901Z",
     "start_time": "2024-04-10T17:50:30.236751Z"
    }
   },
   "source": "",
   "outputs": [],
   "execution_count": 31
  },
  {
   "metadata": {},
   "cell_type": "code",
   "outputs": [],
   "execution_count": null,
   "source": "",
   "id": "15ce416f021aa2ec"
  }
 ],
 "metadata": {
  "kernelspec": {
   "display_name": "Python 3 (ipykernel)",
   "language": "python",
   "name": "python3"
  },
  "language_info": {
   "codemirror_mode": {
    "name": "ipython",
    "version": 3
   },
   "file_extension": ".py",
   "mimetype": "text/x-python",
   "name": "python",
   "nbconvert_exporter": "python",
   "pygments_lexer": "ipython3",
   "version": "3.11.8"
  }
 },
 "nbformat": 4,
 "nbformat_minor": 5
}
