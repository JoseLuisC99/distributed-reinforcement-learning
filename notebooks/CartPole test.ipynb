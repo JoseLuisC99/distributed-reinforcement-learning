{
 "cells": [
  {
   "cell_type": "code",
   "execution_count": 1,
   "id": "initial_id",
   "metadata": {
    "collapsed": true,
    "ExecuteTime": {
     "end_time": "2024-01-11T16:43:59.573755911Z",
     "start_time": "2024-01-11T16:43:58.600002174Z"
    }
   },
   "outputs": [],
   "source": [
    "import torch\n",
    "from torch import nn\n",
    "import torch.nn.functional as F\n",
    "import gymnasium as gym\n",
    "from distrl.worker import Agent"
   ]
  },
  {
   "cell_type": "code",
   "outputs": [],
   "source": [
    "class Policy(nn.Module):\n",
    "    def __init__(self):\n",
    "        super(Policy, self).__init__()\n",
    "        self.affine1 = nn.Linear(4, 128)\n",
    "        self.dropout = nn.Dropout(p=0.6)\n",
    "        self.affine2 = nn.Linear(128, 2)\n",
    "\n",
    "    def forward(self, x: torch.Tensor) -> torch.Tensor:\n",
    "        x = self.affine1(x)\n",
    "        x = self.dropout(x)\n",
    "        x = F.relu(x)\n",
    "        action_scores = self.affine2(x)\n",
    "        return F.softmax(action_scores, dim=1)"
   ],
   "metadata": {
    "collapsed": false,
    "ExecuteTime": {
     "end_time": "2024-01-11T17:43:30.615463125Z",
     "start_time": "2024-01-11T17:43:30.571776190Z"
    }
   },
   "id": "fa85b3c28ea89332",
   "execution_count": 64
  },
  {
   "cell_type": "code",
   "outputs": [
    {
     "data": {
      "text/plain": "<All keys matched successfully>"
     },
     "execution_count": 65,
     "metadata": {},
     "output_type": "execute_result"
    }
   ],
   "source": [
    "policy = Policy()\n",
    "policy.eval()\n",
    "policy.load_state_dict(torch.load(\"../models/CartPole-v1_policy.pt\"))"
   ],
   "metadata": {
    "collapsed": false,
    "ExecuteTime": {
     "end_time": "2024-01-11T17:43:47.048801670Z",
     "start_time": "2024-01-11T17:43:47.042050301Z"
    }
   },
   "id": "eb489a35c6a396f5",
   "execution_count": 65
  },
  {
   "cell_type": "code",
   "outputs": [],
   "source": [
    "agent = Agent(policy)\n",
    "env = gym.make('CartPole-v1', render_mode=\"human\")\n",
    "state, _ = env.reset()\n",
    "\n",
    "for _ in range(1000):\n",
    "    action, _ = agent.act(state)\n",
    "    state, reward, done, _, _ = env.step(action)\n",
    "    \n",
    "    if done:\n",
    "        break\n",
    "\n",
    "env.close()"
   ],
   "metadata": {
    "collapsed": false,
    "ExecuteTime": {
     "end_time": "2024-01-11T23:11:30.862383246Z",
     "start_time": "2024-01-11T23:11:24.744934457Z"
    }
   },
   "id": "41756a734e27485e",
   "execution_count": 67
  },
  {
   "cell_type": "code",
   "outputs": [],
   "source": [],
   "metadata": {
    "collapsed": false
   },
   "id": "174bc61208e573b7"
  }
 ],
 "metadata": {
  "kernelspec": {
   "display_name": "Python 3",
   "language": "python",
   "name": "python3"
  },
  "language_info": {
   "codemirror_mode": {
    "name": "ipython",
    "version": 2
   },
   "file_extension": ".py",
   "mimetype": "text/x-python",
   "name": "python",
   "nbconvert_exporter": "python",
   "pygments_lexer": "ipython2",
   "version": "2.7.6"
  }
 },
 "nbformat": 4,
 "nbformat_minor": 5
}
