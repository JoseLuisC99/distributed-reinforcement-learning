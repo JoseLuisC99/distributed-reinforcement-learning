{
 "cells": [
  {
   "cell_type": "code",
   "execution_count": 3,
   "id": "initial_id",
   "metadata": {
    "collapsed": true,
    "ExecuteTime": {
     "end_time": "2024-01-23T19:34:09.199279342Z",
     "start_time": "2024-01-23T19:34:09.153415643Z"
    }
   },
   "outputs": [],
   "source": [
    "import torch\n",
    "from torch import nn\n",
    "import torch.nn.functional as F\n",
    "import gymnasium as gym\n",
    "from distrl.worker import Agent\n",
    "from gymnasium.utils.save_video import save_video"
   ]
  },
  {
   "cell_type": "code",
   "outputs": [],
   "source": [
    "class Policy(nn.Module):\n",
    "    def __init__(self):\n",
    "        super(Policy, self).__init__()\n",
    "        self.affine1 = nn.Linear(4, 128)\n",
    "        self.dropout = nn.Dropout(p=0.6)\n",
    "        self.affine2 = nn.Linear(128, 2)\n",
    "\n",
    "    def forward(self, x: torch.Tensor) -> torch.Tensor:\n",
    "        x = self.affine1(x)\n",
    "        x = self.dropout(x)\n",
    "        x = F.relu(x)\n",
    "        action_scores = self.affine2(x)\n",
    "        return F.softmax(action_scores, dim=1)"
   ],
   "metadata": {
    "collapsed": false,
    "ExecuteTime": {
     "end_time": "2024-01-23T19:34:09.615990698Z",
     "start_time": "2024-01-23T19:34:09.614710724Z"
    }
   },
   "id": "fa85b3c28ea89332",
   "execution_count": 4
  },
  {
   "cell_type": "code",
   "outputs": [
    {
     "name": "stdout",
     "output_type": "stream",
     "text": [
      "Moviepy - Building video /home/jlcg/projects/DistRL/notebooks/videos/rl-video-episode-0.mp4.\n",
      "Moviepy - Writing video /home/jlcg/projects/DistRL/notebooks/videos/rl-video-episode-0.mp4\n"
     ]
    },
    {
     "name": "stderr",
     "output_type": "stream",
     "text": [
      "                                                                \r"
     ]
    },
    {
     "name": "stdout",
     "output_type": "stream",
     "text": [
      "Moviepy - Done !\n",
      "Moviepy - video ready /home/jlcg/projects/DistRL/notebooks/videos/rl-video-episode-0.mp4\n"
     ]
    }
   ],
   "source": [
    "workers = 40\n",
    "policy = Policy()\n",
    "policy.eval()\n",
    "policy.load_state_dict(torch.load(f\"../models/archive/CartPole-v1_{workers}workers_policy.pt\"))\n",
    "\n",
    "agent = Agent(policy)\n",
    "env = gym.make('CartPole-v1', render_mode=\"rgb_array_list\")\n",
    "state, _ = env.reset()\n",
    "\n",
    "for _ in range(1000):\n",
    "    action, _ = agent.act(state)\n",
    "    state, reward, done, _, _ = env.step(action)\n",
    "    \n",
    "    if done:\n",
    "        break\n",
    "\n",
    "save_video(env.render(), \"archive/videos\", fps=env.metadata[\"render_fps\"])\n",
    "env.close()"
   ],
   "metadata": {
    "collapsed": false,
    "ExecuteTime": {
     "end_time": "2024-01-23T20:05:02.282103741Z",
     "start_time": "2024-01-23T20:04:58.125946656Z"
    }
   },
   "id": "41756a734e27485e",
   "execution_count": 40
  },
  {
   "cell_type": "code",
   "outputs": [],
   "source": [],
   "metadata": {
    "collapsed": false
   },
   "id": "174bc61208e573b7"
  }
 ],
 "metadata": {
  "kernelspec": {
   "display_name": "Python 3",
   "language": "python",
   "name": "python3"
  },
  "language_info": {
   "codemirror_mode": {
    "name": "ipython",
    "version": 2
   },
   "file_extension": ".py",
   "mimetype": "text/x-python",
   "name": "python",
   "nbconvert_exporter": "python",
   "pygments_lexer": "ipython2",
   "version": "2.7.6"
  }
 },
 "nbformat": 4,
 "nbformat_minor": 5
}
