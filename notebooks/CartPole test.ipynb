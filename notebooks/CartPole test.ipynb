{
 "cells": [
  {
   "cell_type": "code",
   "execution_count": 1,
   "id": "baa9bf9afe767f33",
   "metadata": {
    "collapsed": false,
    "jupyter": {
     "outputs_hidden": false
    }
   },
   "outputs": [],
   "source": [
    "import numpy as np\n",
    "import torch\n",
    "from torch import nn\n",
    "import torch.nn.functional as F\n",
    "import gymnasium as gym\n",
    "from collections import Counter"
   ]
  },
  {
   "cell_type": "code",
   "execution_count": 2,
   "id": "75e91f7dd64a2bef",
   "metadata": {
    "collapsed": false,
    "jupyter": {
     "outputs_hidden": false
    }
   },
   "outputs": [],
   "source": [
    "class DeepQNetwork(nn.Module):\n",
    "    def __init__(self, n_observations, n_actions):\n",
    "        super(DeepQNetwork, self).__init__()\n",
    "        self.layer1 = nn.Linear(n_observations, 128)\n",
    "        self.layer2 = nn.Linear(128, 128)\n",
    "        self.layer3 = nn.Linear(128, n_actions)\n",
    "\n",
    "    def forward(self, x):\n",
    "        x = F.relu(self.layer1(x))\n",
    "        x = F.relu(self.layer2(x))\n",
    "        return self.layer3(x)"
   ]
  },
  {
   "cell_type": "code",
   "execution_count": 34,
   "id": "85c4a95c7e4f31a0",
   "metadata": {
    "ExecuteTime": {
     "end_time": "2024-03-30T20:49:14.533450924Z",
     "start_time": "2024-03-30T20:49:14.470820098Z"
    },
    "collapsed": false,
    "jupyter": {
     "outputs_hidden": false
    }
   },
   "outputs": [
    {
     "data": {
      "text/plain": [
       "<All keys matched successfully>"
      ]
     },
     "execution_count": 34,
     "metadata": {},
     "output_type": "execute_result"
    }
   ],
   "source": [
    "dqn = DeepQNetwork(4, 2)\n",
    "dqn.load_state_dict(torch.load(\"../models/gorila.pth\"))\n",
    "# dqn.load_state_dict(torch.load(\"../checkpoints/checkpoint-190000.pth\"))"
   ]
  },
  {
   "cell_type": "code",
   "execution_count": 36,
   "id": "ada1ad32744ea16c",
   "metadata": {
    "ExecuteTime": {
     "end_time": "2024-03-30T20:49:25.986177493Z",
     "start_time": "2024-03-30T20:49:15.747247820Z"
    },
    "collapsed": false,
    "jupyter": {
     "outputs_hidden": false
    }
   },
   "outputs": [
    {
     "name": "stdout",
     "output_type": "stream",
     "text": [
      "Total reward: 500.0\n",
      "Counter({1: 250, 0: 250})\n"
     ]
    }
   ],
   "source": [
    "dqn.eval()\n",
    "env = gym.make('CartPole-v1', render_mode=\"human\")\n",
    "state, _ = env.reset()\n",
    "actions = []\n",
    "rewards = 0\n",
    "\n",
    "for _ in range(1_000):\n",
    "    q_values = dqn(torch.tensor(np.array(state)).unsqueeze(0))\n",
    "    action = q_values.argmax().item()\n",
    "    actions.append(action)\n",
    "    # print(action, q_values)\n",
    "    state, reward, terminated, truncated, _ = env.step(action)\n",
    "    rewards += reward\n",
    "    if terminated or truncated:\n",
    "        break\n",
    "\n",
    "print(\"Total reward:\", rewards)\n",
    "print(Counter(actions))\n",
    "env.close()"
   ]
  },
  {
   "cell_type": "code",
   "execution_count": null,
   "id": "174bc61208e573b7",
   "metadata": {
    "collapsed": false,
    "jupyter": {
     "outputs_hidden": false
    }
   },
   "outputs": [],
   "source": []
  }
 ],
 "metadata": {
  "kernelspec": {
   "display_name": "Python 3 (ipykernel)",
   "language": "python",
   "name": "python3"
  },
  "language_info": {
   "codemirror_mode": {
    "name": "ipython",
    "version": 3
   },
   "file_extension": ".py",
   "mimetype": "text/x-python",
   "name": "python",
   "nbconvert_exporter": "python",
   "pygments_lexer": "ipython3",
   "version": "3.11.8"
  }
 },
 "nbformat": 4,
 "nbformat_minor": 5
}
