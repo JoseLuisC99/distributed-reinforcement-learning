{
 "cells": [
  {
   "cell_type": "code",
   "outputs": [],
   "source": [
    "import numpy as np\n",
    "import torch\n",
    "from torch import nn, optim\n",
    "import torch.nn.functional as F\n",
    "import gymnasium as gym\n",
    "from gymnasium.wrappers import RecordEpisodeStatistics, AtariPreprocessing, FrameStack, HumanRendering\n",
    "\n",
    "from distrl.dqn.agents import DeepQAgent\n",
    "from distrl.dqn.utils import LinearAnnealer\n",
    "import matplotlib.pyplot as plt\n",
    "from collections import Counter\n",
    "from itertools import count"
   ],
   "metadata": {
    "collapsed": false,
    "ExecuteTime": {
     "end_time": "2024-03-26T22:46:09.660162167Z",
     "start_time": "2024-03-26T22:46:08.535915620Z"
    }
   },
   "id": "9ef1f762df756e76",
   "execution_count": 1
  },
  {
   "cell_type": "code",
   "outputs": [
    {
     "name": "stdout",
     "output_type": "stream",
     "text": [
      "Using device: cuda\n"
     ]
    }
   ],
   "source": [
    "device = torch.device(\"cuda\" if torch.cuda.is_available() else \"cpu\")\n",
    "print(\"Using device:\", device)"
   ],
   "metadata": {
    "collapsed": false,
    "ExecuteTime": {
     "end_time": "2024-03-26T22:46:09.669947132Z",
     "start_time": "2024-03-26T22:46:09.667098820Z"
    }
   },
   "id": "74ca5ab0b2429c14",
   "execution_count": 2
  },
  {
   "cell_type": "code",
   "outputs": [],
   "source": [
    "class DeepQNetwork(nn.Module):\n",
    "    def __init__(self, n_actions: int):\n",
    "        super().__init__()\n",
    "\n",
    "        self.conv1 = nn.Conv2d(4, 32, 8, stride=4)\n",
    "        self.conv2 = nn.Conv2d(32, 64, 4, stride=2)\n",
    "        self.conv3 = nn.Conv2d(64, 64, 3, stride=1)\n",
    "        self.fc1 = nn.Linear(7 * 7 * 64, 1024)\n",
    "        self.fc2 = nn.Linear(1024, n_actions)\n",
    "\n",
    "        torch.nn.init.kaiming_normal_(self.conv1.weight, nonlinearity='leaky_relu')\n",
    "        torch.nn.init.kaiming_normal_(self.conv2.weight, nonlinearity='leaky_relu')\n",
    "        torch.nn.init.kaiming_normal_(self.conv3.weight, nonlinearity='leaky_relu')\n",
    "        torch.nn.init.kaiming_normal_(self.fc1.weight, nonlinearity='leaky_relu')\n",
    "        torch.nn.init.kaiming_normal_(self.fc2.weight, nonlinearity='leaky_relu')\n",
    "\n",
    "    def forward(self, x):\n",
    "        x = F.leaky_relu(self.conv1(x), 0.01)\n",
    "        x = F.leaky_relu(self.conv2(x), 0.01)\n",
    "        x = F.leaky_relu(self.conv3(x), 0.01)\n",
    "        x = F.leaky_relu(self.fc1(nn.Flatten()(x)), 0.01)\n",
    "        return self.fc2(x)"
   ],
   "metadata": {
    "collapsed": false,
    "ExecuteTime": {
     "end_time": "2024-03-26T22:46:10.776214746Z",
     "start_time": "2024-03-26T22:46:10.772460061Z"
    }
   },
   "id": "ed1bf6132642c69c",
   "execution_count": 3
  },
  {
   "cell_type": "code",
   "outputs": [
    {
     "name": "stderr",
     "output_type": "stream",
     "text": [
      "A.L.E: Arcade Learning Environment (version 0.8.1+53f58b7)\n",
      "[Powered by Stella]\n"
     ]
    }
   ],
   "source": [
    "qnet = DeepQNetwork(18)\n",
    "env = gym.make(\"ALE/Tennis-v5\", frameskip=1)\n",
    "env = AtariPreprocessing(env, scale_obs=True)\n",
    "env = FrameStack(env, 4, True)\n",
    "env = RecordEpisodeStatistics(env, deque_size=1_000_000)\n",
    "\n",
    "agent = DeepQAgent(qnet, env, 0.99, 10_000, 50_000, 32, 4, 10_000, 50_000, device)"
   ],
   "metadata": {
    "collapsed": false,
    "ExecuteTime": {
     "end_time": "2024-03-26T22:46:13.364154158Z",
     "start_time": "2024-03-26T22:46:13.065490766Z"
    }
   },
   "id": "2873b6e6cb3dbb6a",
   "execution_count": 4
  },
  {
   "cell_type": "code",
   "outputs": [
    {
     "name": "stderr",
     "output_type": "stream",
     "text": [
      "100%|██████████| 10000000/10000000 [6:32:08<00:00, 425.01it/s] "
     ]
    },
    {
     "name": "stdout",
     "output_type": "stream",
     "text": [
      "2758 episodes lapsed\n",
      "CPU times: user 6h 29min 39s, sys: 2min 10s, total: 6h 31min 49s\n",
      "Wall time: 6h 32min 9s\n"
     ]
    },
    {
     "name": "stderr",
     "output_type": "stream",
     "text": [
      "\n"
     ]
    }
   ],
   "source": [
    "%%time\n",
    "# optimizer = optim.Adam(qnet.parameters(), lr=0.0000625, eps=1.5e-4)\n",
    "optimizer = optim.Adam(qnet.parameters(), lr=0.00025, eps=1.5e-4)\n",
    "epsilon = LinearAnnealer(1.0, 0.1, 1_000_000)\n",
    "\n",
    "target_network = agent.train(10_000_000, optimizer, epsilon)\n",
    "# target_network = agent.train(10_000, optimizer, epsilon)"
   ],
   "metadata": {
    "collapsed": false,
    "ExecuteTime": {
     "end_time": "2024-03-27T05:18:33.534741642Z",
     "start_time": "2024-03-26T22:46:23.914772048Z"
    }
   },
   "id": "e5032a5b163ba573",
   "execution_count": 5
  },
  {
   "cell_type": "code",
   "outputs": [],
   "source": [
    "torch.save(target_network.state_dict(), '../models/DQL Atari Tennis - 10.pth')"
   ],
   "metadata": {
    "collapsed": false,
    "ExecuteTime": {
     "end_time": "2024-03-27T12:50:29.041532489Z",
     "start_time": "2024-03-27T12:50:28.959340515Z"
    }
   },
   "id": "386288b98b993897",
   "execution_count": 6
  },
  {
   "cell_type": "code",
   "outputs": [],
   "source": [
    "env = gym.make(\"ALE/Tennis-v5\", frameskip=1, render_mode=\"rgb_array\")\n",
    "env.metadata[\"render_fps\"] = 30\n",
    "env = AtariPreprocessing(env, scale_obs=True)\n",
    "env = FrameStack(env, 4, True)\n",
    "env = HumanRendering(env)"
   ],
   "metadata": {
    "collapsed": false,
    "ExecuteTime": {
     "end_time": "2024-03-27T12:50:33.771465692Z",
     "start_time": "2024-03-27T12:50:33.721731027Z"
    }
   },
   "id": "69ca00e2f9f705bf",
   "execution_count": 7
  },
  {
   "cell_type": "code",
   "outputs": [
    {
     "ename": "KeyboardInterrupt",
     "evalue": "",
     "output_type": "error",
     "traceback": [
      "\u001B[0;31m---------------------------------------------------------------------------\u001B[0m",
      "\u001B[0;31mKeyboardInterrupt\u001B[0m                         Traceback (most recent call last)",
      "Cell \u001B[0;32mIn[8], line 11\u001B[0m\n\u001B[1;32m      5\u001B[0m \u001B[38;5;28;01mfor\u001B[39;00m _ \u001B[38;5;129;01min\u001B[39;00m count():\n\u001B[1;32m      6\u001B[0m     action \u001B[38;5;241m=\u001B[39m torch\u001B[38;5;241m.\u001B[39margmax(\n\u001B[1;32m      7\u001B[0m         target_network(\n\u001B[1;32m      8\u001B[0m             torch\u001B[38;5;241m.\u001B[39mTensor(np\u001B[38;5;241m.\u001B[39marray(state))\u001B[38;5;241m.\u001B[39munsqueeze(\u001B[38;5;241m0\u001B[39m)\u001B[38;5;241m.\u001B[39mto(device)\n\u001B[1;32m      9\u001B[0m         )\n\u001B[1;32m     10\u001B[0m     )\n\u001B[0;32m---> 11\u001B[0m     state, reward, terminated, truncated, _ \u001B[38;5;241m=\u001B[39m \u001B[43menv\u001B[49m\u001B[38;5;241;43m.\u001B[39;49m\u001B[43mstep\u001B[49m\u001B[43m(\u001B[49m\u001B[43maction\u001B[49m\u001B[43m)\u001B[49m\n\u001B[1;32m     12\u001B[0m     actions\u001B[38;5;241m.\u001B[39mappend(action\u001B[38;5;241m.\u001B[39mitem())\n\u001B[1;32m     14\u001B[0m     \u001B[38;5;28;01mif\u001B[39;00m terminated \u001B[38;5;129;01mor\u001B[39;00m truncated:\n",
      "File \u001B[0;32m~/projects/DistRL/.venv/lib/python3.11/site-packages/gymnasium/wrappers/human_rendering.py:79\u001B[0m, in \u001B[0;36mHumanRendering.step\u001B[0;34m(self, *args, **kwargs)\u001B[0m\n\u001B[1;32m     77\u001B[0m \u001B[38;5;250m\u001B[39m\u001B[38;5;124;03m\"\"\"Perform a step in the base environment and render a frame to the screen.\"\"\"\u001B[39;00m\n\u001B[1;32m     78\u001B[0m result \u001B[38;5;241m=\u001B[39m \u001B[38;5;28mself\u001B[39m\u001B[38;5;241m.\u001B[39menv\u001B[38;5;241m.\u001B[39mstep(\u001B[38;5;241m*\u001B[39margs, \u001B[38;5;241m*\u001B[39m\u001B[38;5;241m*\u001B[39mkwargs)\n\u001B[0;32m---> 79\u001B[0m \u001B[38;5;28;43mself\u001B[39;49m\u001B[38;5;241;43m.\u001B[39;49m\u001B[43m_render_frame\u001B[49m\u001B[43m(\u001B[49m\u001B[43m)\u001B[49m\n\u001B[1;32m     80\u001B[0m \u001B[38;5;28;01mreturn\u001B[39;00m result\n",
      "File \u001B[0;32m~/projects/DistRL/.venv/lib/python3.11/site-packages/gymnasium/wrappers/human_rendering.py:132\u001B[0m, in \u001B[0;36mHumanRendering._render_frame\u001B[0;34m(self)\u001B[0m\n\u001B[1;32m    130\u001B[0m \u001B[38;5;28mself\u001B[39m\u001B[38;5;241m.\u001B[39mwindow\u001B[38;5;241m.\u001B[39mblit(surf, (\u001B[38;5;241m0\u001B[39m, \u001B[38;5;241m0\u001B[39m))\n\u001B[1;32m    131\u001B[0m pygame\u001B[38;5;241m.\u001B[39mevent\u001B[38;5;241m.\u001B[39mpump()\n\u001B[0;32m--> 132\u001B[0m \u001B[38;5;28;43mself\u001B[39;49m\u001B[38;5;241;43m.\u001B[39;49m\u001B[43mclock\u001B[49m\u001B[38;5;241;43m.\u001B[39;49m\u001B[43mtick\u001B[49m\u001B[43m(\u001B[49m\u001B[38;5;28;43mself\u001B[39;49m\u001B[38;5;241;43m.\u001B[39;49m\u001B[43mmetadata\u001B[49m\u001B[43m[\u001B[49m\u001B[38;5;124;43m\"\u001B[39;49m\u001B[38;5;124;43mrender_fps\u001B[39;49m\u001B[38;5;124;43m\"\u001B[39;49m\u001B[43m]\u001B[49m\u001B[43m)\u001B[49m\n\u001B[1;32m    133\u001B[0m pygame\u001B[38;5;241m.\u001B[39mdisplay\u001B[38;5;241m.\u001B[39mflip()\n",
      "\u001B[0;31mKeyboardInterrupt\u001B[0m: "
     ]
    }
   ],
   "source": [
    "target_network.eval()\n",
    "state, _ = env.reset()\n",
    "actions = []\n",
    "\n",
    "for _ in count():\n",
    "    action = torch.argmax(\n",
    "        target_network(\n",
    "            torch.Tensor(np.array(state)).unsqueeze(0).to(device)\n",
    "        )\n",
    "    )\n",
    "    state, reward, terminated, truncated, _ = env.step(action)\n",
    "    actions.append(action.item())\n",
    "    \n",
    "    if terminated or truncated:\n",
    "        break\n",
    "env.close()\n",
    "print(Counter(actions))"
   ],
   "metadata": {
    "collapsed": false,
    "ExecuteTime": {
     "end_time": "2024-03-27T12:54:43.637678921Z",
     "start_time": "2024-03-27T12:50:34.236121572Z"
    }
   },
   "id": "2aa1622de32553c4",
   "execution_count": 8
  },
  {
   "cell_type": "code",
   "outputs": [],
   "source": [],
   "metadata": {
    "collapsed": false
   },
   "id": "55eb77da232be8db"
  }
 ],
 "metadata": {
  "kernelspec": {
   "display_name": "Python 3",
   "language": "python",
   "name": "python3"
  },
  "language_info": {
   "codemirror_mode": {
    "name": "ipython",
    "version": 2
   },
   "file_extension": ".py",
   "mimetype": "text/x-python",
   "name": "python",
   "nbconvert_exporter": "python",
   "pygments_lexer": "ipython2",
   "version": "2.7.6"
  }
 },
 "nbformat": 4,
 "nbformat_minor": 5
}
