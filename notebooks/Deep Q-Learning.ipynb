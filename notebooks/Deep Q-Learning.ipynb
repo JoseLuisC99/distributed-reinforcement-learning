{
 "cells": [
  {
   "cell_type": "code",
   "source": [
    "import numpy as np\n",
    "import torch\n",
    "from torch import nn, optim\n",
    "import torch.nn.functional as F\n",
    "import gymnasium as gym\n",
    "from gymnasium.wrappers import TransformReward, AtariPreprocessing, FrameStack, HumanRendering\n",
    "from collections import Counter\n",
    "from itertools import count"
   ],
   "metadata": {
    "collapsed": false,
    "ExecuteTime": {
     "end_time": "2024-04-12T15:09:01.448689Z",
     "start_time": "2024-04-12T15:09:00.166423Z"
    }
   },
   "id": "9ef1f762df756e76",
   "outputs": [],
   "execution_count": 1
  },
  {
   "cell_type": "code",
   "source": [
    "device = torch.device(\"cuda\" if torch.cuda.is_available() else \"cpu\")\n",
    "print(\"Using device:\", device)"
   ],
   "metadata": {
    "collapsed": false,
    "ExecuteTime": {
     "end_time": "2024-04-12T15:09:01.687797Z",
     "start_time": "2024-04-12T15:09:01.450033Z"
    }
   },
   "id": "74ca5ab0b2429c14",
   "outputs": [
    {
     "name": "stdout",
     "output_type": "stream",
     "text": [
      "Using device: cuda\n"
     ]
    }
   ],
   "execution_count": 2
  },
  {
   "cell_type": "code",
   "source": [
    "class DeepQNetwork(nn.Module):\n",
    "    def __init__(self, n_actions: int):\n",
    "        super().__init__()\n",
    "\n",
    "        self.conv1 = nn.Conv2d(4, 32, 8, stride=4)\n",
    "        self.conv2 = nn.Conv2d(32, 64, 4, stride=2)\n",
    "        self.conv3 = nn.Conv2d(64, 64, 3, stride=1)\n",
    "        self.fc1 = nn.Linear(7 * 7 * 64, 1024)\n",
    "        self.fc2 = nn.Linear(1024, n_actions)\n",
    "\n",
    "        torch.nn.init.kaiming_normal_(self.conv1.weight, nonlinearity='leaky_relu')\n",
    "        torch.nn.init.kaiming_normal_(self.conv2.weight, nonlinearity='leaky_relu')\n",
    "        torch.nn.init.kaiming_normal_(self.conv3.weight, nonlinearity='leaky_relu')\n",
    "        torch.nn.init.kaiming_normal_(self.fc1.weight, nonlinearity='leaky_relu')\n",
    "        torch.nn.init.kaiming_normal_(self.fc2.weight, nonlinearity='leaky_relu')\n",
    "\n",
    "    def forward(self, x):\n",
    "        x = x.type(torch.float32) / 255.0\n",
    "        x = F.leaky_relu(self.conv1(x), 0.01)\n",
    "        x = F.leaky_relu(self.conv2(x), 0.01)\n",
    "        x = F.leaky_relu(self.conv3(x), 0.01)\n",
    "        x = F.leaky_relu(self.fc1(nn.Flatten()(x)), 0.01)\n",
    "        return self.fc2(x)"
   ],
   "metadata": {
    "collapsed": false,
    "ExecuteTime": {
     "end_time": "2024-04-12T15:09:01.734117Z",
     "start_time": "2024-04-12T15:09:01.688822Z"
    }
   },
   "id": "ed1bf6132642c69c",
   "outputs": [],
   "execution_count": 3
  },
  {
   "cell_type": "code",
   "source": [
    "env = gym.make(\"ALE/Breakout-v5\", frameskip=1, render_mode=\"rgb_array\")\n",
    "env.metadata[\"render_fps\"] = 60\n",
    "env = AtariPreprocessing(env, scale_obs=False)\n",
    "env = FrameStack(env, 4, True)\n",
    "# env = TransformReward(env, lambda x: min(max(x, -1.0), 1.0))\n",
    "env = HumanRendering(env)\n",
    "\n",
    "qnet = DeepQNetwork(env.action_space.n)\n",
    "qnet.load_state_dict(torch.load(\"../checkpoints/checkpoint-35000.pth\"))\n",
    "# qnet.load_state_dict(torch.load(\"../models/checkpoint-250000.pth\"))\n",
    "qnet.to(device)\n",
    "\n",
    "qnet.eval()\n",
    "state, _ = env.reset()\n",
    "actions = []\n",
    "q_values_mean = torch.zeros((1, 4)).to(device)\n",
    "steps = 100\n",
    "\n",
    "for _ in range(steps):\n",
    "    q_values = qnet(torch.Tensor(np.array(state)).unsqueeze(0).to(device))\n",
    "    action = torch.argmax(q_values)\n",
    "    # action = env.action_space.sample()\n",
    "    q_values_mean += q_values\n",
    "    state, reward, terminated, truncated, _ = env.step(action)\n",
    "    actions.append(action.item())\n",
    "    if reward != 0:\n",
    "        print(reward)\n",
    "    \n",
    "    if terminated or truncated:\n",
    "        break\n",
    "env.close()\n",
    "print(q_values_mean / steps)\n",
    "print(Counter(actions))"
   ],
   "metadata": {
    "collapsed": false,
    "ExecuteTime": {
     "end_time": "2024-04-12T15:09:30.497456Z",
     "start_time": "2024-04-12T15:09:30.115582Z"
    }
   },
   "id": "2aa1622de32553c4",
   "outputs": [
    {
     "name": "stderr",
     "output_type": "stream",
     "text": [
      "A.L.E: Arcade Learning Environment (version 0.8.1+53f58b7)\n",
      "[Powered by Stella]\n"
     ]
    },
    {
     "ename": "RuntimeError",
     "evalue": "Error(s) in loading state_dict for DeepQNetwork:\n\tMissing key(s) in state_dict: \"conv1.weight\", \"conv1.bias\", \"conv2.weight\", \"conv2.bias\", \"conv3.weight\", \"conv3.bias\", \"fc1.weight\", \"fc1.bias\", \"fc2.weight\", \"fc2.bias\". \n\tUnexpected key(s) in state_dict: \"layer1.weight\", \"layer1.bias\", \"layer2.weight\", \"layer2.bias\", \"layer3.weight\", \"layer3.bias\". ",
     "output_type": "error",
     "traceback": [
      "\u001B[0;31m---------------------------------------------------------------------------\u001B[0m",
      "\u001B[0;31mRuntimeError\u001B[0m                              Traceback (most recent call last)",
      "Cell \u001B[0;32mIn[4], line 10\u001B[0m\n\u001B[1;32m      8\u001B[0m qnet \u001B[38;5;241m=\u001B[39m DeepQNetwork(env\u001B[38;5;241m.\u001B[39maction_space\u001B[38;5;241m.\u001B[39mn)\n\u001B[1;32m      9\u001B[0m \u001B[38;5;66;03m# qnet.load_state_dict(torch.load(\"../checkpoints/checkpoint-35000.pth\"))\u001B[39;00m\n\u001B[0;32m---> 10\u001B[0m \u001B[43mqnet\u001B[49m\u001B[38;5;241;43m.\u001B[39;49m\u001B[43mload_state_dict\u001B[49m\u001B[43m(\u001B[49m\u001B[43mtorch\u001B[49m\u001B[38;5;241;43m.\u001B[39;49m\u001B[43mload\u001B[49m\u001B[43m(\u001B[49m\u001B[38;5;124;43m\"\u001B[39;49m\u001B[38;5;124;43m../models/checkpoint-250000.pth\u001B[39;49m\u001B[38;5;124;43m\"\u001B[39;49m\u001B[43m)\u001B[49m\u001B[43m)\u001B[49m\n\u001B[1;32m     11\u001B[0m qnet\u001B[38;5;241m.\u001B[39mto(device)\n\u001B[1;32m     13\u001B[0m qnet\u001B[38;5;241m.\u001B[39meval()\n",
      "File \u001B[0;32m~/anaconda3/envs/dist/lib/python3.11/site-packages/torch/nn/modules/module.py:2153\u001B[0m, in \u001B[0;36mModule.load_state_dict\u001B[0;34m(self, state_dict, strict, assign)\u001B[0m\n\u001B[1;32m   2148\u001B[0m         error_msgs\u001B[38;5;241m.\u001B[39minsert(\n\u001B[1;32m   2149\u001B[0m             \u001B[38;5;241m0\u001B[39m, \u001B[38;5;124m'\u001B[39m\u001B[38;5;124mMissing key(s) in state_dict: \u001B[39m\u001B[38;5;132;01m{}\u001B[39;00m\u001B[38;5;124m. \u001B[39m\u001B[38;5;124m'\u001B[39m\u001B[38;5;241m.\u001B[39mformat(\n\u001B[1;32m   2150\u001B[0m                 \u001B[38;5;124m'\u001B[39m\u001B[38;5;124m, \u001B[39m\u001B[38;5;124m'\u001B[39m\u001B[38;5;241m.\u001B[39mjoin(\u001B[38;5;124mf\u001B[39m\u001B[38;5;124m'\u001B[39m\u001B[38;5;124m\"\u001B[39m\u001B[38;5;132;01m{\u001B[39;00mk\u001B[38;5;132;01m}\u001B[39;00m\u001B[38;5;124m\"\u001B[39m\u001B[38;5;124m'\u001B[39m \u001B[38;5;28;01mfor\u001B[39;00m k \u001B[38;5;129;01min\u001B[39;00m missing_keys)))\n\u001B[1;32m   2152\u001B[0m \u001B[38;5;28;01mif\u001B[39;00m \u001B[38;5;28mlen\u001B[39m(error_msgs) \u001B[38;5;241m>\u001B[39m \u001B[38;5;241m0\u001B[39m:\n\u001B[0;32m-> 2153\u001B[0m     \u001B[38;5;28;01mraise\u001B[39;00m \u001B[38;5;167;01mRuntimeError\u001B[39;00m(\u001B[38;5;124m'\u001B[39m\u001B[38;5;124mError(s) in loading state_dict for \u001B[39m\u001B[38;5;132;01m{}\u001B[39;00m\u001B[38;5;124m:\u001B[39m\u001B[38;5;130;01m\\n\u001B[39;00m\u001B[38;5;130;01m\\t\u001B[39;00m\u001B[38;5;132;01m{}\u001B[39;00m\u001B[38;5;124m'\u001B[39m\u001B[38;5;241m.\u001B[39mformat(\n\u001B[1;32m   2154\u001B[0m                        \u001B[38;5;28mself\u001B[39m\u001B[38;5;241m.\u001B[39m\u001B[38;5;18m__class__\u001B[39m\u001B[38;5;241m.\u001B[39m\u001B[38;5;18m__name__\u001B[39m, \u001B[38;5;124m\"\u001B[39m\u001B[38;5;130;01m\\n\u001B[39;00m\u001B[38;5;130;01m\\t\u001B[39;00m\u001B[38;5;124m\"\u001B[39m\u001B[38;5;241m.\u001B[39mjoin(error_msgs)))\n\u001B[1;32m   2155\u001B[0m \u001B[38;5;28;01mreturn\u001B[39;00m _IncompatibleKeys(missing_keys, unexpected_keys)\n",
      "\u001B[0;31mRuntimeError\u001B[0m: Error(s) in loading state_dict for DeepQNetwork:\n\tMissing key(s) in state_dict: \"conv1.weight\", \"conv1.bias\", \"conv2.weight\", \"conv2.bias\", \"conv3.weight\", \"conv3.bias\", \"fc1.weight\", \"fc1.bias\", \"fc2.weight\", \"fc2.bias\". \n\tUnexpected key(s) in state_dict: \"layer1.weight\", \"layer1.bias\", \"layer2.weight\", \"layer2.bias\", \"layer3.weight\", \"layer3.bias\". "
     ]
    }
   ],
   "execution_count": 4
  },
  {
   "metadata": {},
   "cell_type": "code",
   "outputs": [],
   "execution_count": null,
   "source": "0.3180,  0.1097, -0.0419,  0.2139",
   "id": "1e297a21f22801d4"
  }
 ],
 "metadata": {
  "kernelspec": {
   "display_name": "Python 3",
   "language": "python",
   "name": "python3"
  },
  "language_info": {
   "codemirror_mode": {
    "name": "ipython",
    "version": 2
   },
   "file_extension": ".py",
   "mimetype": "text/x-python",
   "name": "python",
   "nbconvert_exporter": "python",
   "pygments_lexer": "ipython2",
   "version": "2.7.6"
  }
 },
 "nbformat": 4,
 "nbformat_minor": 5
}
