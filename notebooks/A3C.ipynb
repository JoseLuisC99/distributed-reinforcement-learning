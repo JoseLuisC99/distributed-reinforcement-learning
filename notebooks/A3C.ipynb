{
 "cells": [
  {
   "cell_type": "code",
   "id": "initial_id",
   "metadata": {
    "collapsed": true,
    "ExecuteTime": {
     "end_time": "2024-05-08T14:25:21.126789Z",
     "start_time": "2024-05-08T14:25:19.754063Z"
    }
   },
   "source": [
    "import torch\n",
    "from torch import nn\n",
    "import torch.nn.functional as F\n",
    "import gymnasium as gym\n",
    "from itertools import count\n",
    "from collections import Counter\n",
    "import numpy as np\n",
    "from torch.distributions import Categorical\n",
    "from torch import optim"
   ],
   "outputs": [],
   "execution_count": 1
  },
  {
   "metadata": {
    "ExecuteTime": {
     "end_time": "2024-05-08T14:25:21.130780Z",
     "start_time": "2024-05-08T14:25:21.127938Z"
    }
   },
   "cell_type": "code",
   "source": [
    "class Backbone(nn.Module):\n",
    "    def __init__(self):\n",
    "        super().__init__()\n",
    "        self.layer1 = nn.Linear(4, 128)\n",
    "        self.layer2 = nn.Linear(128, 128)\n",
    "\n",
    "    def forward(self, x) -> torch.Tensor:\n",
    "        x = F.relu(self.layer1(x))\n",
    "        x = F.relu(self.layer2(x))\n",
    "        return x"
   ],
   "id": "c8df110c28925363",
   "outputs": [],
   "execution_count": 2
  },
  {
   "metadata": {
    "ExecuteTime": {
     "end_time": "2024-05-08T14:25:21.133954Z",
     "start_time": "2024-05-08T14:25:21.131510Z"
    }
   },
   "cell_type": "code",
   "source": [
    "class Actor(nn.Module):\n",
    "    def __init__(self, base: nn.Module):\n",
    "        super().__init__()\n",
    "        self.base = base\n",
    "        self.linear = nn.Linear(128, 2)\n",
    "\n",
    "    def forward(self, x: torch.Tensor) -> torch.Tensor:\n",
    "        x = self.base(x)\n",
    "        x = self.linear(x)\n",
    "        return F.softmax(x, dim=1)"
   ],
   "id": "c518726c8daf2db7",
   "outputs": [],
   "execution_count": 3
  },
  {
   "metadata": {
    "ExecuteTime": {
     "end_time": "2024-05-08T14:25:21.137427Z",
     "start_time": "2024-05-08T14:25:21.135102Z"
    }
   },
   "cell_type": "code",
   "source": [
    "class Critic(nn.Module):\n",
    "    def __init__(self, base: nn.Module):\n",
    "        super().__init__()\n",
    "        self.base = base\n",
    "        self.linear = nn.Linear(128, 1)\n",
    "\n",
    "    def forward(self, x: torch.Tensor) -> torch.Tensor:\n",
    "        x = self.base(x)\n",
    "        return self.linear(x)"
   ],
   "id": "dc784700d82cbd83",
   "outputs": [],
   "execution_count": 4
  },
  {
   "metadata": {
    "ExecuteTime": {
     "end_time": "2024-05-08T14:25:21.139826Z",
     "start_time": "2024-05-08T14:25:21.138121Z"
    }
   },
   "cell_type": "code",
   "source": [
    "# backbone = Backbone()\n",
    "# actor = Actor(backbone)\n",
    "# critic = Critic(backbone)\n",
    "\n",
    "# actor.load_state_dict(torch.load(\"../checkpoints/actor_1000.pt\"))"
   ],
   "id": "cd3f55b1b6d359bf",
   "outputs": [],
   "execution_count": 5
  },
  {
   "metadata": {
    "ExecuteTime": {
     "end_time": "2024-05-08T14:28:24.764392Z",
     "start_time": "2024-05-08T14:27:18.861354Z"
    }
   },
   "cell_type": "code",
   "source": [
    "backbone = Backbone()\n",
    "actor = Actor(backbone)\n",
    "critic = Critic(backbone)\n",
    "\n",
    "env = gym.make(\"CartPole-v1\")\n",
    "lr = 0.0001\n",
    "# lr = 0.0002\n",
    "actor_optimizer = optim.Adam(actor.parameters(), lr=lr)\n",
    "critic_optimizer = optim.Adam(critic.parameters(), lr=lr)\n",
    "\n",
    "t = 0\n",
    "state, _ = env.reset()\n",
    "state = torch.Tensor(np.array(state))\n",
    "\n",
    "while t < 100_000:\n",
    "    actor_optimizer.zero_grad()\n",
    "    critic_optimizer.zero_grad()\n",
    "    \n",
    "    done = False\n",
    "    t_start = t\n",
    "    rewards = []\n",
    "    states = []\n",
    "    log_probs = []\n",
    "    while not done and t - t_start != 20:\n",
    "        state = state.unsqueeze(0)\n",
    "        probs = actor(state)\n",
    "        m = Categorical(probs)\n",
    "        action = m.sample()\n",
    "        action, log_prob = action.item(), m.log_prob(action)\n",
    "        \n",
    "        state, reward, terminated, truncated, info = env.step(action)\n",
    "        state = torch.Tensor(np.array(state))\n",
    "\n",
    "        rewards.append(reward)\n",
    "        states.append(state)\n",
    "        log_probs.append(log_prob)\n",
    "\n",
    "        done = truncated or terminated\n",
    "        t += 1\n",
    "    \n",
    "    r = 0 if done else critic(state)\n",
    "    actor_loss = torch.tensor([0.0])\n",
    "    critic_loss = torch.tensor([0.0])\n",
    "    for ri, si, logi in zip(reversed(rewards), reversed(states), reversed(log_probs)):\n",
    "        r = ri + 0.9 * r\n",
    "        v = critic(si)\n",
    "        tmp_diff = (r - v)\n",
    "        actor_loss += logi * tmp_diff.clone().detach()\n",
    "        critic_loss += tmp_diff ** 2\n",
    "    actor_loss.backward(retain_graph=True)\n",
    "    critic_loss.backward(retain_graph=True)\n",
    "    \n",
    "    actor_optimizer.step()\n",
    "    critic_optimizer.step()\n",
    "    if done:\n",
    "        state, _ = env.reset()\n",
    "        state = torch.Tensor(np.array(state))\n",
    "env.close()"
   ],
   "id": "c112d90f75503b72",
   "outputs": [],
   "execution_count": 8
  },
  {
   "metadata": {
    "ExecuteTime": {
     "end_time": "2024-05-08T17:01:48.653732Z",
     "start_time": "2024-05-08T17:01:46.798536Z"
    }
   },
   "cell_type": "code",
   "source": [
    "env = gym.make('CartPole-v1', render_mode=\"human\")\n",
    "state, _ = env.reset()\n",
    "actions = []\n",
    "rewards = 0\n",
    "\n",
    "backbone = Backbone()\n",
    "actor = Actor(backbone)\n",
    "# actor.load_state_dict(torch.load(\"../checkpoints/actor_5000.pt\"))\n",
    "actor.load_state_dict(torch.load(\"../models/actor.pt\"))\n",
    "\n",
    "for _ in count():\n",
    "    state = torch.tensor(np.array(state)).unsqueeze(0)\n",
    "    action_probs = actor(state)\n",
    "    print(action_probs)\n",
    "    action = action_probs.argmax().item()\n",
    "    actions.append(action)\n",
    "    state, reward, terminated, truncated, _ = env.step(action)\n",
    "    rewards += reward\n",
    "    if terminated or truncated:\n",
    "        break\n",
    "\n",
    "print(\"Total reward:\", rewards)\n",
    "print(Counter(actions))\n",
    "env.close()"
   ],
   "id": "f54c10f4e1689a5e",
   "outputs": [
    {
     "name": "stdout",
     "output_type": "stream",
     "text": [
      "tensor([[0.1335, 0.8665]], grad_fn=<SoftmaxBackward0>)\n",
      "tensor([[0.2216, 0.7784]], grad_fn=<SoftmaxBackward0>)\n",
      "tensor([[0.4320, 0.5680]], grad_fn=<SoftmaxBackward0>)\n",
      "tensor([[0.7166, 0.2834]], grad_fn=<SoftmaxBackward0>)\n",
      "tensor([[0.5208, 0.4792]], grad_fn=<SoftmaxBackward0>)\n",
      "tensor([[0.3412, 0.6588]], grad_fn=<SoftmaxBackward0>)\n",
      "tensor([[0.6081, 0.3919]], grad_fn=<SoftmaxBackward0>)\n",
      "tensor([[0.4224, 0.5776]], grad_fn=<SoftmaxBackward0>)\n",
      "tensor([[0.7018, 0.2982]], grad_fn=<SoftmaxBackward0>)\n",
      "tensor([[0.5240, 0.4760]], grad_fn=<SoftmaxBackward0>)\n",
      "tensor([[0.3756, 0.6244]], grad_fn=<SoftmaxBackward0>)\n",
      "tensor([[0.6266, 0.3734]], grad_fn=<SoftmaxBackward0>)\n",
      "tensor([[0.4720, 0.5280]], grad_fn=<SoftmaxBackward0>)\n",
      "tensor([[0.7378, 0.2622]], grad_fn=<SoftmaxBackward0>)\n",
      "tensor([[0.5893, 0.4107]], grad_fn=<SoftmaxBackward0>)\n",
      "tensor([[0.4615, 0.5385]], grad_fn=<SoftmaxBackward0>)\n",
      "tensor([[0.7009, 0.2991]], grad_fn=<SoftmaxBackward0>)\n",
      "Total reward: 17.0\n",
      "Counter({0: 9, 1: 8})\n"
     ]
    }
   ],
   "execution_count": 27
  },
  {
   "metadata": {
    "ExecuteTime": {
     "end_time": "2024-05-08T15:03:21.385990Z",
     "start_time": "2024-05-08T15:03:21.303175Z"
    }
   },
   "cell_type": "code",
   "source": "env.close()",
   "id": "aceb73b3ae7bdb60",
   "outputs": [],
   "execution_count": 14
  },
  {
   "metadata": {},
   "cell_type": "code",
   "outputs": [],
   "execution_count": null,
   "source": "",
   "id": "73ca6b3fe8ee3bc0"
  }
 ],
 "metadata": {
  "kernelspec": {
   "display_name": "Python 3",
   "language": "python",
   "name": "python3"
  },
  "language_info": {
   "codemirror_mode": {
    "name": "ipython",
    "version": 2
   },
   "file_extension": ".py",
   "mimetype": "text/x-python",
   "name": "python",
   "nbconvert_exporter": "python",
   "pygments_lexer": "ipython2",
   "version": "2.7.6"
  }
 },
 "nbformat": 4,
 "nbformat_minor": 5
}
